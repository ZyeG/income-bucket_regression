{
  "cells": [
    {
      "cell_type": "code",
      "execution_count": null,
      "id": "3a6b3fb6",
      "metadata": {
        "id": "3a6b3fb6"
      },
      "outputs": [],
      "source": [
        "import pandas as pd\n",
        "import numpy as np\n",
        "from random import *\n",
        "import seaborn as sns\n",
        "import matplotlib.pyplot as plt\n",
        "%matplotlib inline\n",
        "\n",
        "from sklearn.model_selection import train_test_split\n",
        "from sklearn.linear_model import LogisticRegression\n",
        "import warnings\n",
        "warnings.filterwarnings(\"ignore\")"
      ]
    },
    {
      "cell_type": "code",
      "execution_count": null,
      "id": "eU5JU8itP0_z",
      "metadata": {
        "id": "eU5JU8itP0_z",
        "colab": {
          "base_uri": "https://localhost:8080/"
        },
        "outputId": "a070e66c-c36a-431c-aeba-4257d4ee41fb"
      },
      "outputs": [
        {
          "output_type": "execute_result",
          "data": {
            "text/plain": [
              "(8137, 298)"
            ]
          },
          "metadata": {},
          "execution_count": 2
        }
      ],
      "source": [
        "df = pd.read_csv(\"./clean_kaggle_data_2022.csv\", low_memory = False, encoding = 'latin2')\n",
        "df.shape"
      ]
    },
    {
      "cell_type": "code",
      "execution_count": null,
      "id": "OfxDILHMQkQ0",
      "metadata": {
        "id": "OfxDILHMQkQ0"
      },
      "outputs": [],
      "source": [
        "df.drop(df.index[0], inplace=True)"
      ]
    },
    {
      "cell_type": "markdown",
      "source": [
        "### multi-col"
      ],
      "metadata": {
        "id": "V_Y7DMFS3dUL"
      },
      "id": "V_Y7DMFS3dUL"
    },
    {
      "cell_type": "code",
      "execution_count": null,
      "id": "G72PNKgjx1d6",
      "metadata": {
        "id": "G72PNKgjx1d6"
      },
      "outputs": [],
      "source": [
        "multi_col_names = [col for col in df.columns if \"_\" in col]\n",
        "# rm 'Q29_Encoded','Q29_buckets' from multi_col_names\n",
        "multi_col_names.remove('Q29_Encoded')\n",
        "multi_col_names.remove('Q29_buckets')\n",
        "df[multi_col_names] = df[multi_col_names].notna().astype(int)"
      ]
    },
    {
      "cell_type": "code",
      "source": [
        "print(\"multi col:, len:\", len(multi_col_names),\"\\n\")\n",
        "print(multi_col_names)"
      ],
      "metadata": {
        "id": "xhW_eRut9plE",
        "colab": {
          "base_uri": "https://localhost:8080/"
        },
        "outputId": "ef6c367e-ae8e-439b-feb4-29937fe3473b"
      },
      "id": "xhW_eRut9plE",
      "execution_count": null,
      "outputs": [
        {
          "output_type": "stream",
          "name": "stdout",
          "text": [
            "multi col:, len: 277 \n",
            "\n",
            "['Q6_1', 'Q6_2', 'Q6_3', 'Q6_4', 'Q6_5', 'Q6_6', 'Q6_7', 'Q6_8', 'Q6_9', 'Q6_10', 'Q6_11', 'Q6_12', 'Q7_1', 'Q7_2', 'Q7_3', 'Q7_4', 'Q7_5', 'Q7_6', 'Q7_7', 'Q10_1', 'Q10_2', 'Q10_3', 'Q12_1', 'Q12_2', 'Q12_3', 'Q12_4', 'Q12_5', 'Q12_6', 'Q12_7', 'Q12_8', 'Q12_9', 'Q12_10', 'Q12_11', 'Q12_12', 'Q12_13', 'Q12_14', 'Q12_15', 'Q13_1', 'Q13_2', 'Q13_3', 'Q13_4', 'Q13_5', 'Q13_6', 'Q13_7', 'Q13_8', 'Q13_9', 'Q13_10', 'Q13_11', 'Q13_12', 'Q13_13', 'Q13_14', 'Q14_1', 'Q14_2', 'Q14_3', 'Q14_4', 'Q14_5', 'Q14_6', 'Q14_7', 'Q14_8', 'Q14_9', 'Q14_10', 'Q14_11', 'Q14_12', 'Q14_13', 'Q14_14', 'Q14_15', 'Q14_16', 'Q15_1', 'Q15_2', 'Q15_3', 'Q15_4', 'Q15_5', 'Q15_6', 'Q15_7', 'Q15_8', 'Q15_9', 'Q15_10', 'Q15_11', 'Q15_12', 'Q15_13', 'Q15_14', 'Q15_15', 'Q17_1', 'Q17_2', 'Q17_3', 'Q17_4', 'Q17_5', 'Q17_6', 'Q17_7', 'Q17_8', 'Q17_9', 'Q17_10', 'Q17_11', 'Q17_12', 'Q17_13', 'Q17_14', 'Q17_15', 'Q18_1', 'Q18_2', 'Q18_3', 'Q18_4', 'Q18_5', 'Q18_6', 'Q18_7', 'Q18_8', 'Q18_9', 'Q18_10', 'Q18_11', 'Q18_12', 'Q18_13', 'Q18_14', 'Q19_1', 'Q19_2', 'Q19_3', 'Q19_4', 'Q19_5', 'Q19_6', 'Q19_7', 'Q19_8', 'Q20_1', 'Q20_2', 'Q20_3', 'Q20_4', 'Q20_5', 'Q20_6', 'Q21_1', 'Q21_2', 'Q21_3', 'Q21_4', 'Q21_5', 'Q21_6', 'Q21_7', 'Q21_8', 'Q21_9', 'Q21_10', 'Q28_1', 'Q28_2', 'Q28_3', 'Q28_4', 'Q28_5', 'Q28_6', 'Q28_7', 'Q28_8', 'Q31_1', 'Q31_2', 'Q31_3', 'Q31_4', 'Q31_5', 'Q31_6', 'Q31_7', 'Q31_8', 'Q31_9', 'Q31_10', 'Q31_11', 'Q31_12', 'Q33_1', 'Q33_2', 'Q33_3', 'Q33_4', 'Q33_5', 'Q34_1', 'Q34_2', 'Q34_3', 'Q34_4', 'Q34_5', 'Q34_6', 'Q34_7', 'Q34_8', 'Q35_1', 'Q35_2', 'Q35_3', 'Q35_4', 'Q35_5', 'Q35_6', 'Q35_7', 'Q35_8', 'Q35_9', 'Q35_10', 'Q35_11', 'Q35_12', 'Q35_13', 'Q35_14', 'Q35_15', 'Q35_16', 'Q36_1', 'Q36_2', 'Q36_3', 'Q36_4', 'Q36_5', 'Q36_6', 'Q36_7', 'Q36_8', 'Q36_9', 'Q36_10', 'Q36_11', 'Q36_12', 'Q36_13', 'Q36_14', 'Q36_15', 'Q37_1', 'Q37_2', 'Q37_3', 'Q37_4', 'Q37_5', 'Q37_6', 'Q37_7', 'Q37_8', 'Q37_9', 'Q37_10', 'Q37_11', 'Q37_12', 'Q37_13', 'Q38_1', 'Q38_2', 'Q38_3', 'Q38_4', 'Q38_5', 'Q38_6', 'Q38_7', 'Q38_8', 'Q39_1', 'Q39_2', 'Q39_3', 'Q39_4', 'Q39_5', 'Q39_6', 'Q39_7', 'Q39_8', 'Q39_9', 'Q39_10', 'Q39_11', 'Q39_12', 'Q40_1', 'Q40_2', 'Q40_3', 'Q40_4', 'Q40_5', 'Q40_6', 'Q40_7', 'Q40_8', 'Q40_9', 'Q40_10', 'Q40_11', 'Q40_12', 'Q40_13', 'Q40_14', 'Q40_15', 'Q41_1', 'Q41_2', 'Q41_3', 'Q41_4', 'Q41_5', 'Q41_6', 'Q41_7', 'Q41_8', 'Q41_9', 'Q42_1', 'Q42_2', 'Q42_3', 'Q42_4', 'Q42_5', 'Q42_6', 'Q42_7', 'Q42_8', 'Q42_9', 'Q44_1', 'Q44_2', 'Q44_3', 'Q44_4', 'Q44_5', 'Q44_6', 'Q44_7', 'Q44_8', 'Q44_9', 'Q44_10', 'Q44_11', 'Q44_12']\n"
          ]
        }
      ]
    },
    {
      "cell_type": "markdown",
      "id": "Ss_W9V-gSvAC",
      "metadata": {
        "id": "Ss_W9V-gSvAC"
      },
      "source": [
        "### single-col"
      ]
    },
    {
      "cell_type": "code",
      "execution_count": null,
      "id": "apfQn8AY_o6X",
      "metadata": {
        "id": "apfQn8AY_o6X",
        "colab": {
          "base_uri": "https://localhost:8080/"
        },
        "outputId": "43f90b8e-adac-426b-80fe-a6ec22398ea0"
      },
      "outputs": [
        {
          "output_type": "stream",
          "name": "stdout",
          "text": [
            "single col:, len: ['Duration (in seconds)', 'Q2', 'Q3', 'Q4', 'Q5', 'Q8', 'Q9', 'Q11', 'Q16', 'Q22', 'Q23', 'Q24', 'Q25', 'Q26', 'Q27', 'Q30', 'Q32', 'Q43', 'Q29_Encoded'] 19 \n",
            "\n",
            "fill col with mode for nan rate<10:  [['Q16', 'Under 1 year'], ['Q30', '$0 ($USD)']] \n",
            "\n",
            "drop col: ['Q9', 'Q22', 'Q32', 'Q43'] \n",
            "\n"
          ]
        }
      ],
      "source": [
        "single_col_names = [col for col in df.columns if \"_\" not in col]\n",
        "single_col_names.append(\"Q29_Encoded\")\n",
        "single_col_names.remove('Q29')\n",
        "nan_rates = df[single_col_names].isnull().sum() * 100 / len(df)\n",
        "fillout_col_names = []\n",
        "drop_col_names =[]\n",
        "for i,(col, rate) in enumerate(nan_rates.items()):\n",
        "    if rate == 0:\n",
        "      continue\n",
        "    elif rate < 10:\n",
        "        mode_value = df[col].mode()[0]  # Get the most frequent value\n",
        "        fillout_col_names.append([col, mode_value])\n",
        "        df[col].fillna(mode_value, inplace=True)\n",
        "    else:\n",
        "      drop_col_names.append(col)\n",
        "print(\"single col:, len:\", single_col_names, len(single_col_names),\"\\n\")\n",
        "print(\"fill col with mode for nan rate<10: \",fillout_col_names,'\\n')\n",
        "print(\"drop col:\", drop_col_names, '\\n')"
      ]
    },
    {
      "cell_type": "markdown",
      "source": [
        "#### encode cat single col"
      ],
      "metadata": {
        "id": "9SrrGIPr6YYh"
      },
      "id": "9SrrGIPr6YYh"
    },
    {
      "cell_type": "code",
      "execution_count": null,
      "id": "wD_1GCJaVSGA",
      "metadata": {
        "id": "wD_1GCJaVSGA",
        "colab": {
          "base_uri": "https://localhost:8080/"
        },
        "outputId": "c811ac2f-ff74-489d-967e-5aff1f90121d"
      },
      "outputs": [
        {
          "output_type": "stream",
          "name": "stdout",
          "text": [
            "['Q2', 'Q3', 'Q4', 'Q8', 'Q11', 'Q16', 'Q23', 'Q24', 'Q25', 'Q27', 'Q30']\n",
            "11\n"
          ]
        }
      ],
      "source": [
        "single_cat_names = [col for col in single_col_names if col not in drop_col_names]\n",
        "single_cat_names.remove('Duration (in seconds)')\n",
        "single_cat_names.remove('Q29_Encoded')\n",
        "single_cat_names.remove('Q26') # value not parsed correctly\n",
        "single_cat_names.remove('Q5') # answer all No\n",
        "\n",
        "print(single_cat_names)\n",
        "print(len(single_cat_names))"
      ]
    },
    {
      "cell_type": "code",
      "source": [
        "top_10_countries = df['Q4'].value_counts().nlargest(10).index\n",
        "# Overwrite Q4: Keep top 10 countries, replace others with \"Other\"\n",
        "df['Q4'] = df['Q4'].apply(lambda x: x if x in top_10_countries else 'Other')"
      ],
      "metadata": {
        "id": "o0CPLBGb-GAQ"
      },
      "id": "o0CPLBGb-GAQ",
      "execution_count": null,
      "outputs": []
    },
    {
      "cell_type": "code",
      "source": [
        "import pandas as pd\n",
        "from sklearn.preprocessing import OrdinalEncoder\n",
        "\n",
        "# Define categorical columns\n",
        "ordinal_vars = ['Q2', 'Q11', 'Q16', 'Q25', 'Q27', 'Q30']  # Ordered categories\n",
        "onehot_vars = ['Q3', 'Q4', 'Q8', 'Q23', 'Q24']  # Unordered categories\n",
        "\n",
        "# Step 2: Apply Ordinal Encoding for ordered variables\n",
        "ordinal_mappings = {\n",
        "    'Q2': ['18-21', '22-24', '25-29', '30-34', '35-39', '40-44', '45-49',\n",
        "           '50-54', '55-59', '60-69', '70+'],\n",
        "\n",
        "    'Q11': ['I have never written code', '< 1 years', '1-3 years', '3-5 years',\n",
        "            '5-10 years', '10-20 years', '20+ years'],\n",
        "\n",
        "    'Q16': ['I do not use machine learning methods', 'Under 1 year', '1-2 years', '2-3 years', '3-4 years',\n",
        "            '4-5 years', '5-10 years', '10-20 years'],\n",
        "\n",
        "    'Q25': ['0-49 employees', '50-249 employees', '250-999 employees', '1000-9,999 employees', '10,000 or more employees'],\n",
        "\n",
        "    'Q27': ['I do not know','No (we do not use ML methods)', 'We are exploring ML methods (and may one day put a model into production)',\n",
        "            'We use ML methods for generating insights (but do not put working models into production)',\n",
        "            'We recently started using ML methods (i.e., models in production for less than 2 years)',\n",
        "            'We have well established ML methods (i.e., models in production for more than 2 years)', ],\n",
        "\n",
        "    'Q30': ['$0 ($USD)', '$1-$99', '$100-$999', '$1000-$9,999', '$10,000-$99,999', '$100,000 or more ($USD)']\n",
        "}\n",
        "\n",
        "# Apply Ordinal Encoding\n",
        "encoder = OrdinalEncoder(categories=[ordinal_mappings[col] for col in ordinal_vars])\n",
        "df[ordinal_vars] = encoder.fit_transform(df[ordinal_vars])\n",
        "\n",
        "# Step 3: Apply One-Hot Encoding for nominal variables\n",
        "dummies_df = pd.get_dummies(df[onehot_vars], prefix=onehot_vars, drop_first=True).astype(int) # first cat as baseline\n",
        "\n",
        "# Step 4: Concatenate the new dummy features with the original dataframe\n",
        "df_encoded = pd.concat([df, dummies_df], axis=1)\n",
        "\n",
        "# Step 5: Drop the original categorical feature columns\n",
        "df_encoded = df_encoded.drop(columns=onehot_vars)"
      ],
      "metadata": {
        "id": "RuaRJY-l8E_T"
      },
      "id": "RuaRJY-l8E_T",
      "execution_count": null,
      "outputs": []
    },
    {
      "cell_type": "markdown",
      "source": [
        "### drop df"
      ],
      "metadata": {
        "id": "bglNKC9NA5Gp"
      },
      "id": "bglNKC9NA5Gp"
    },
    {
      "cell_type": "code",
      "source": [
        "df_encoded.drop(columns=drop_col_names, inplace=True)\n",
        "df_encoded.drop(columns=['Q5', 'Duration (in seconds)','Q26'], inplace=True)\n",
        "print(len(df_encoded.columns))"
      ],
      "metadata": {
        "id": "Yux0h2Rh7yte",
        "colab": {
          "base_uri": "https://localhost:8080/"
        },
        "outputId": "51238259-77af-4b22-f78e-1a7cbf248f28"
      },
      "id": "Yux0h2Rh7yte",
      "execution_count": null,
      "outputs": [
        {
          "output_type": "stream",
          "name": "stdout",
          "text": [
            "332\n"
          ]
        }
      ]
    },
    {
      "cell_type": "markdown",
      "id": "m1orhf7n3lHc",
      "metadata": {
        "id": "m1orhf7n3lHc"
      },
      "source": [
        "# Data Cleaning"
      ]
    },
    {
      "cell_type": "markdown",
      "id": "71PPXsVpEdby",
      "metadata": {
        "id": "71PPXsVpEdby"
      },
      "source": [
        "###**Drop the target variable(s) and get the target variable**"
      ]
    },
    {
      "cell_type": "code",
      "execution_count": null,
      "id": "4E7mQOQ30K8J",
      "metadata": {
        "id": "4E7mQOQ30K8J"
      },
      "outputs": [],
      "source": [
        "salaries = df_encoded"
      ]
    },
    {
      "cell_type": "code",
      "execution_count": null,
      "id": "J8Xdq2I0aIOK",
      "metadata": {
        "id": "J8Xdq2I0aIOK"
      },
      "outputs": [],
      "source": [
        "# Make sure there are no missing values remaining in the dataset\n",
        "assert salaries.isnull().values.sum() == 0, \\\n",
        "    \"There are still {} missing values remaining in salaries!\".format(\n",
        "        salaries.isnull().values.sum()\n",
        "    )"
      ]
    },
    {
      "cell_type": "code",
      "execution_count": null,
      "id": "01UFnhWGE67u",
      "metadata": {
        "id": "01UFnhWGE67u"
      },
      "outputs": [],
      "source": [
        "target = salaries['Q29_Encoded']\n",
        "#TODO: Drop the target variables from the feature set\n",
        "salaries = salaries.drop(columns=['Q29_Encoded','Q29', 'Q29_buckets'])\n",
        "\n",
        "# Make sure the target variables are not included in the feature set\n",
        "for col in salaries.columns:\n",
        "    assert 'Q29' not in col, \\\n",
        "        \"Target variable ({}) is still in the dataset\".format(col)"
      ]
    },
    {
      "cell_type": "markdown",
      "id": "yCkFKoni0CPH",
      "metadata": {
        "id": "yCkFKoni0CPH"
      },
      "source": [
        "# feature selection"
      ]
    },
    {
      "cell_type": "markdown",
      "source": [
        "### split data"
      ],
      "metadata": {
        "id": "W5AeTBA-5Z1R"
      },
      "id": "W5AeTBA-5Z1R"
    },
    {
      "cell_type": "code",
      "source": [
        "# You can use from sklearn.model_selection.train_test_split()\n",
        "from sklearn.model_selection import train_test_split\n",
        "train_df, test_df, y_train, y_test = train_test_split(salaries, target, test_size=0.2, random_state=42)"
      ],
      "metadata": {
        "id": "p3vjNeSDMyDT"
      },
      "id": "p3vjNeSDMyDT",
      "execution_count": null,
      "outputs": []
    },
    {
      "cell_type": "markdown",
      "id": "VXevGvBB4JVJ",
      "metadata": {
        "id": "VXevGvBB4JVJ"
      },
      "source": [
        "### feature importance plot"
      ]
    },
    {
      "cell_type": "code",
      "execution_count": null,
      "id": "R4LSO2tm4H6w",
      "metadata": {
        "id": "R4LSO2tm4H6w"
      },
      "outputs": [],
      "source": [
        "import pandas as pd\n",
        "import seaborn as sns\n",
        "import matplotlib.pyplot as plt\n",
        "from sklearn.ensemble import  RandomForestRegressor\n",
        "from sklearn.model_selection import train_test_split\n",
        "from sklearn.metrics import mean_squared_error, r2_score\n",
        "\n",
        "# Train Random Forest Regressor for ordinal prediction\n",
        "model = RandomForestRegressor(random_state=42)\n",
        "model.fit(train_df, y_train)\n",
        "\n",
        "# Get feature importances\n",
        "importances = model.feature_importances_\n"
      ]
    },
    {
      "cell_type": "code",
      "source": [
        "# sort\n",
        "indices = importances.argsort()[::-1]\n",
        "feature_importance_df = pd.DataFrame({'Feature': train_df.columns[indices], 'Importance': importances[indices]})"
      ],
      "metadata": {
        "id": "5D81dkns2RjP"
      },
      "id": "5D81dkns2RjP",
      "execution_count": null,
      "outputs": []
    },
    {
      "cell_type": "code",
      "execution_count": null,
      "id": "-OWEeCox5nNq",
      "metadata": {
        "id": "-OWEeCox5nNq",
        "colab": {
          "base_uri": "https://localhost:8080/"
        },
        "outputId": "415c8e7a-28fd-421d-9fa8-961d9c5c5bf7",
        "collapsed": true
      },
      "outputs": [
        {
          "output_type": "stream",
          "name": "stdout",
          "text": [
            "Q4_United States of America: 0.34200300715989873\n",
            "Q11: 0.07450613512053476\n",
            "Q16: 0.05342304636520885\n",
            "Q27: 0.03893711823803506\n",
            "Q2: 0.030708394285159243\n",
            "Q30: 0.02798969867542614\n",
            "Q25: 0.018469866758945463\n",
            "Q4_India: 0.012198345052448458\n",
            "Q23_Manager (Program, Project, Operations, Executive-level, etc): 0.008442053152230778\n",
            "Q4_United Kingdom of Great Britain and Northern Ireland: 0.007349287961831468\n",
            "Q8_MasterEEs degree: 0.005193446006814429\n",
            "Q28_3: 0.005088909281227546\n",
            "Q34_3: 0.004373190527047845\n",
            "Q3_Woman: 0.0037578650155120743\n",
            "Q44_8: 0.0037019533792701466\n",
            "Q28_1: 0.003601035427129738\n",
            "Q23_Other: 0.0035329771253182645\n",
            "Q24_Computers/Technology: 0.003346861611697134\n",
            "Q24_Accounting/Finance: 0.0031139342118233874\n",
            "Q6_1: 0.0030608967737299955\n",
            "Q24_Other: 0.0030285633130279067\n",
            "Q40_8: 0.0030225325271601797\n",
            "Q10_3: 0.0030199213207126622\n",
            "Q21_8: 0.003019032356524751\n",
            "Q44_4: 0.003011799707751561\n",
            "Q44_1: 0.002940967381761566\n",
            "Q7_4: 0.002920389864880193\n",
            "Q44_7: 0.0029163835987159213\n",
            "Q7_2: 0.0028873379334760415\n",
            "Q28_7: 0.002879310695571614\n",
            "Q44_6: 0.002803976540765257\n",
            "Q4_Other: 0.0027996626892225723\n",
            "Q18_2: 0.0027634993671920576\n",
            "Q14_2: 0.0027085687505268236\n",
            "Q6_7: 0.0026960478610171075\n",
            "Q28_4: 0.002688030030114843\n",
            "Q23_Data Analyst (Business, Marketing, Financial, Quantitative, etc): 0.002687641668767759\n",
            "Q31_1: 0.0026565051664120777\n",
            "Q21_9: 0.0026305273725014413\n",
            "Q7_5: 0.002515089883635157\n",
            "Q4_Japan: 0.0024902069251085787\n",
            "Q17_2: 0.002485568559422399\n",
            "Q6_3: 0.0024810287833344786\n",
            "Q6_10: 0.002420589165255401\n",
            "Q12_3: 0.0024183345071846483\n",
            "Q44_2: 0.0024138339795861\n",
            "Q12_4: 0.0023828295111146215\n",
            "Q28_5: 0.0023644591048921078\n",
            "Q13_11: 0.002335853241002036\n",
            "Q15_2: 0.002327648477235246\n",
            "Q18_1: 0.002325389517764071\n",
            "Q15_1: 0.0023130094511451273\n",
            "Q12_1: 0.0022824629017196714\n",
            "Q28_2: 0.002277054236739395\n",
            "Q17_6: 0.002260496336345888\n",
            "Q7_6: 0.0022602718351758763\n",
            "Q44_5: 0.002254064869348329\n",
            "Q7_1: 0.002253962238519157\n",
            "Q14_1: 0.0022223419921988024\n",
            "Q35_1: 0.0022200816750830533\n",
            "Q28_6: 0.0022174363497277907\n",
            "Q13_4: 0.0021819308718528793\n",
            "Q23_Data Scientist: 0.0021733814281559276\n",
            "Q18_3: 0.002142377528276257\n",
            "Q13_3: 0.002124518980580298\n",
            "Q23_Software Engineer: 0.0021216712904332043\n",
            "Q24_Retail/Sales: 0.002087049358377927\n",
            "Q17_3: 0.0020593418737690286\n",
            "Q6_12: 0.0020402527662780347\n",
            "Q6_4: 0.002039927991283873\n",
            "Q23_Teacher / professor: 0.0020049166826212406\n",
            "Q12_9: 0.0019822878617596325\n",
            "Q4_France: 0.001974848597755759\n",
            "Q44_9: 0.0019441071095843015\n",
            "Q17_4: 0.0019322683729959254\n",
            "Q8_Doctoral degree: 0.0019082601415149696\n",
            "Q13_6: 0.001891716476040152\n",
            "Q13_7: 0.0018841557575731453\n",
            "Q24_Medical/Pharmaceutical: 0.0018767358723832902\n",
            "Q44_3: 0.0018749874854845617\n",
            "Q6_8: 0.0018672113014747403\n",
            "Q8_I prefer not to answer: 0.0018247290734078755\n",
            "Q17_7: 0.0018159420300298743\n",
            "Q12_6: 0.0018082026082088469\n",
            "Q15_3: 0.0018072681326001627\n",
            "Q7_3: 0.0018058454153385079\n",
            "Q24_Manufacturing/Fabrication: 0.001805398990322646\n",
            "Q35_6: 0.0017977843714390151\n",
            "Q24_Non-profit/Service: 0.0017806298169754284\n",
            "Q17_1: 0.0017779360602381852\n",
            "Q13_5: 0.0017724889412070214\n",
            "Q12_15: 0.0017714257788890811\n",
            "Q24_Online Service/Internet-based Services: 0.0017595158240763906\n",
            "Q12_11: 0.0017514210649387982\n",
            "Q18_4: 0.00174549982715604\n",
            "Q13_2: 0.0017287223923387251\n",
            "Q7_7: 0.0016998965875388245\n",
            "Q13_12: 0.0016709363482242173\n",
            "Q12_8: 0.0016688261844332386\n",
            "Q13_10: 0.0016683733216683828\n",
            "Q36_5: 0.001667857983637548\n",
            "Q15_4: 0.0016673321705363358\n",
            "Q35_5: 0.0016652731069883356\n",
            "Q24_Government/Public Service: 0.001646556110888101\n",
            "Q24_Broadcasting/Communications: 0.0016290706641871706\n",
            "Q33_4: 0.0016111152445893756\n",
            "Q17_5: 0.0015900299507834548\n",
            "Q8_Professional doctorate: 0.0015869809480326103\n",
            "Q12_2: 0.0015849529913696638\n",
            "Q13_14: 0.001583145680708358\n",
            "Q6_2: 0.0015770311487675497\n",
            "Q40_14: 0.0015756225509980656\n",
            "Q13_1: 0.0015729466163848787\n",
            "Q18_7: 0.001565858042667133\n",
            "Q13_9: 0.0015595150565108193\n",
            "Q18_6: 0.0015296337398623871\n",
            "Q37_12: 0.0015239058014090145\n",
            "Q31_3: 0.0015072809019959193\n",
            "Q6_5: 0.001482810224301926\n",
            "Q18_11: 0.0014748469509886428\n",
            "Q42_1: 0.0014703877935111956\n",
            "Q34_7: 0.0014676495391731082\n",
            "Q38_7: 0.0014656972669815883\n",
            "Q10_2: 0.0014642298661655825\n",
            "Q6_9: 0.0014638281278790452\n",
            "Q35_2: 0.0014637132965989812\n",
            "Q23_Research Scientist: 0.001455129220085746\n",
            "Q18_10: 0.0014455424412744182\n",
            "Q12_10: 0.0014419788800161789\n",
            "Q36_2: 0.0014379877548719741\n",
            "Q34_5: 0.0014275822973870186\n",
            "Q35_3: 0.0014265875452873211\n",
            "Q18_9: 0.001421092694200874\n",
            "Q35_10: 0.00141557879653701\n",
            "Q3_Prefer not to say: 0.0014083217241844712\n",
            "Q15_6: 0.0014074838945011309\n",
            "Q12_7: 0.0014052398890371874\n",
            "Q35_8: 0.001392118860198524\n",
            "Q31_2: 0.0013859518317422377\n",
            "Q17_15: 0.00137480975054513\n",
            "Q13_8: 0.0013721394972387585\n",
            "Q21_1: 0.0013336121405455228\n",
            "Q6_6: 0.0013279479176538113\n",
            "Q21_3: 0.0013038322748103542\n",
            "Q23_Data Architect: 0.0012856482792312485\n",
            "Q28_8: 0.0012793326648117263\n",
            "Q8_No formal education past high school: 0.0012690524975439157\n",
            "Q33_1: 0.0012317526938725788\n",
            "Q15_9: 0.001208777298160023\n",
            "Q19_3: 0.0012043693552372782\n",
            "Q35_4: 0.0011997489846649148\n",
            "Q19_2: 0.001199573970856739\n",
            "Q44_10: 0.0011918361862325747\n",
            "Q15_7: 0.001187850123165906\n",
            "Q10_1: 0.0011731613306195181\n",
            "Q24_Insurance/Risk Assessment: 0.0011517796806295123\n",
            "Q35_13: 0.0011407067475245195\n",
            "Q17_13: 0.0011193621442585626\n",
            "Q24_Energy/Mining: 0.001114691552340427\n",
            "Q21_2: 0.0011010920754534813\n",
            "Q35_9: 0.0010878560001965942\n",
            "Q18_12: 0.0010726034837610463\n",
            "Q23_Engineer (non-software): 0.0010520837183968738\n",
            "Q34_1: 0.00105052313506466\n",
            "Q19_4: 0.001040690788668538\n",
            "Q44_12: 0.001033065229030649\n",
            "Q40_2: 0.0010312614065026867\n",
            "Q33_3: 0.0010308425210675599\n",
            "Q19_6: 0.0010151094672533009\n",
            "Q41_1: 0.0009979579965540084\n",
            "Q17_9: 0.0009968777993932256\n",
            "Q23_Data Engineer: 0.0009854954516733702\n",
            "Q33_2: 0.0009819787251074523\n",
            "Q18_5: 0.0009817525568141723\n",
            "Q17_12: 0.0009632948639329597\n",
            "Q8_Some college/university study without earning a bachelorEEs degree: 0.0009595900987038168\n",
            "Q24_Marketing/CRM: 0.0009589519152982342\n",
            "Q12_5: 0.0009568775560996214\n",
            "Q40_7: 0.0009480470859124072\n",
            "Q35_11: 0.0009276943092650401\n",
            "Q12_13: 0.0009267307202430624\n",
            "Q23_Developer Advocate: 0.0009197701243861305\n",
            "Q18_8: 0.0009063926015401366\n",
            "Q20_1: 0.0008996609246997515\n",
            "Q35_7: 0.0008985028642177201\n",
            "Q20_4: 0.0008959948867781723\n",
            "Q14_12: 0.0008925558461205107\n",
            "Q24_Shipping/Transportation: 0.0008921534630304643\n",
            "Q14_3: 0.0008882995503148483\n",
            "Q15_5: 0.0008881829155286537\n",
            "Q31_7: 0.0008836069554632925\n",
            "Q17_10: 0.0008812569825784615\n",
            "Q37_7: 0.0008751041116661344\n",
            "Q15_8: 0.0008661530007776459\n",
            "Q40_15: 0.0008658809375381201\n",
            "Q23_Machine Learning/ MLops Engineer: 0.0008622189959282668\n",
            "Q21_4: 0.0008613859730569021\n",
            "Q19_1: 0.0008483326611823026\n",
            "Q4_Spain: 0.000847133412894069\n",
            "Q42_2: 0.000836944157436395\n",
            "Q15_11: 0.0008318695672110268\n",
            "Q39_3: 0.000823184752084256\n",
            "Q12_12: 0.000820462116086713\n",
            "Q36_3: 0.0008187785214744873\n",
            "Q14_16: 0.0008066061922201032\n",
            "Q21_6: 0.0007978812078963409\n",
            "Q21_10: 0.0007973005855202794\n",
            "Q17_8: 0.0007904223327012202\n",
            "Q36_9: 0.0007872970184784801\n",
            "Q37_13: 0.0007803384089697875\n",
            "Q40_4: 0.0007695001423851362\n",
            "Q31_12: 0.0007497313473345143\n",
            "Q34_2: 0.0007448107929209467\n",
            "Q31_5: 0.0007299362949742743\n",
            "Q14_6: 0.0007279715486397222\n",
            "Q37_1: 0.0006839963142786828\n",
            "Q34_4: 0.0006820970080583315\n",
            "Q37_2: 0.000680412286239782\n",
            "Q15_10: 0.0006612863280347597\n",
            "Q21_7: 0.000658870686751756\n",
            "Q15_15: 0.0006500348283315217\n",
            "Q19_5: 0.0006484550034214337\n",
            "Q38_6: 0.000648214878909278\n",
            "Q34_6: 0.0006464881722767847\n",
            "Q36_6: 0.0006431037953013778\n",
            "Q35_16: 0.0006423791875957076\n",
            "Q14_9: 0.000588709249372947\n",
            "Q20_2: 0.0005831883544673605\n",
            "Q36_15: 0.000581669567858849\n",
            "Q36_4: 0.0005528045156142305\n",
            "Q20_3: 0.0005491501398881139\n",
            "Q14_5: 0.0005460730519750746\n",
            "Q4_Mexico: 0.0005367616636076738\n",
            "Q39_10: 0.0005347127050499341\n",
            "Q40_1: 0.0005336867812764862\n",
            "Q39_1: 0.0005298838709055257\n",
            "Q36_1: 0.0005204040502951755\n",
            "Q37_3: 0.0005179891933526182\n",
            "Q38_1: 0.000506227390869598\n",
            "Q38_5: 0.0005049960825395457\n",
            "Q35_14: 0.0005020106787038516\n",
            "Q31_9: 0.0004854473582230331\n",
            "Q17_11: 0.00048337682996428967\n",
            "Q18_14: 0.000483312435987742\n",
            "Q33_5: 0.00048072321545881237\n",
            "Q15_13: 0.00047539386275032334\n",
            "Q14_11: 0.0004717111822050711\n",
            "Q31_4: 0.00046595580126765763\n",
            "Q41_4: 0.0004538441489602012\n",
            "Q37_5: 0.0004383721490735631\n",
            "Q39_6: 0.00043691670726207077\n",
            "Q36_12: 0.0004265363528668448\n",
            "Q14_7: 0.00042313415924449463\n",
            "Q39_12: 0.00041363172036443387\n",
            "Q34_8: 0.0004067691956655756\n",
            "Q15_12: 0.00040515509940391883\n",
            "Q36_13: 0.00038790566470195707\n",
            "Q31_8: 0.00038508814737977826\n",
            "Q14_8: 0.0003820198769252948\n",
            "Q20_6: 0.0003632336906556484\n",
            "Q40_5: 0.0003528133922465844\n",
            "Q35_12: 0.00035106586336091923\n",
            "Q41_2: 0.0003456445429674667\n",
            "Q38_4: 0.0003408902778438211\n",
            "Q3_Prefer to self-describe: 0.0003389180345475119\n",
            "Q40_3: 0.00033603282296120087\n",
            "Q14_14: 0.00032774173655859904\n",
            "Q39_2: 0.00031938408626703836\n",
            "Q31_6: 0.000317598578303973\n",
            "Q37_4: 0.00031139558943786284\n",
            "Q38_3: 0.0003072878866264707\n",
            "Q19_8: 0.00030300909771426693\n",
            "Q40_13: 0.0002971274250961536\n",
            "Q39_4: 0.0002856407944263964\n",
            "Q41_9: 0.0002825002865577052\n",
            "Q39_9: 0.0002634289683241338\n",
            "Q40_11: 0.0002545063294083069\n",
            "Q37_11: 0.0002533733212960517\n",
            "Q38_2: 0.00023883259186990464\n",
            "Q4_Nigeria: 0.00023427839290956142\n",
            "Q23_Statistician: 0.00022776307079278393\n",
            "Q42_3: 0.00022712351938532126\n",
            "Q42_9: 0.00021729886150143613\n",
            "Q37_9: 0.00021442396847024662\n",
            "Q36_8: 0.00021048437953383482\n",
            "Q14_13: 0.00020844313031021037\n",
            "Q40_6: 0.00020289353058355997\n",
            "Q41_3: 0.00016729276100845068\n",
            "Q21_5: 0.0001654958363494437\n",
            "Q40_12: 0.00016250274345363527\n",
            "Q37_8: 0.0001592735776217351\n",
            "Q41_6: 0.00014989854783508457\n",
            "Q39_5: 0.0001492926897792711\n",
            "Q36_7: 0.0001477316579810635\n",
            "Q38_8: 0.0001462324400466151\n",
            "Q3_Nonbinary: 0.0001340060422487413\n",
            "Q39_8: 0.00013353596352638092\n",
            "Q37_6: 0.0001313588135043368\n",
            "Q14_10: 0.00012676609568999418\n",
            "Q39_7: 0.00010811061156150209\n",
            "Q31_10: 0.00010435672665137303\n",
            "Q40_9: 0.00010260701639080523\n",
            "Q36_11: 9.588597457354076e-05\n",
            "Q42_4: 8.810860249737635e-05\n",
            "Q37_10: 8.4008438608932e-05\n",
            "Q36_10: 8.213585810192247e-05\n",
            "Q42_5: 8.200706753854769e-05\n",
            "Q41_5: 5.341611747896162e-05\n",
            "Q41_7: 4.909248665829557e-05\n",
            "Q42_7: 4.896733521001227e-05\n",
            "Q42_6: 2.979490366270965e-05\n",
            "Q14_4: 2.2228896110495152e-05\n",
            "Q40_10: 6.483805504348666e-06\n",
            "Q39_11: 0.0\n",
            "Q13_13: 0.0\n",
            "Q31_11: 0.0\n",
            "Q41_8: 0.0\n",
            "Q12_14: 0.0\n",
            "Q6_11: 0.0\n",
            "Q44_11: 0.0\n",
            "Q14_15: 0.0\n",
            "Q20_5: 0.0\n",
            "Q36_14: 0.0\n",
            "Q15_14: 0.0\n",
            "Q35_15: 0.0\n",
            "Q17_14: 0.0\n",
            "Q42_8: 0.0\n",
            "Q19_7: 0.0\n",
            "Q18_13: 0.0\n"
          ]
        }
      ],
      "source": [
        "for feature, importance in zip(feature_importance_df[\"Feature\"], feature_importance_df[\"Importance\"]):\n",
        "    print(f\"{feature}: {importance}\")"
      ]
    },
    {
      "cell_type": "code",
      "source": [
        "# Group by the prefix before the first underscore (_) to sum importance scores\n",
        "feature_importance_df['Category'] = feature_importance_df['Feature'].str.split('_').str[0]  # Extract main category\n",
        "grouped_importance = feature_importance_df.groupby('Category')['Importance'].sum().reset_index()\n",
        "\n",
        "# Sort and display\n",
        "grouped_importance = grouped_importance.sort_values(by='Importance', ascending=False)\n",
        "print(grouped_importance)"
      ],
      "metadata": {
        "id": "1F6KV4rREi2F",
        "colab": {
          "base_uri": "https://localhost:8080/"
        },
        "outputId": "9ca5d426-cd8b-43f1-afb0-8980e2411115"
      },
      "id": "1F6KV4rREi2F",
      "execution_count": null,
      "outputs": [
        {
          "output_type": "stream",
          "name": "stdout",
          "text": [
            "   Category  Importance\n",
            "28       Q4    0.370434\n",
            "1       Q11    0.074506\n",
            "6       Q16    0.053423\n",
            "16      Q27    0.038937\n",
            "10       Q2    0.030708\n",
            "19      Q30    0.027990\n",
            "13      Q23    0.027751\n",
            "14      Q24    0.026192\n",
            "32      Q44    0.026087\n",
            "3       Q13    0.023346\n",
            "2       Q12    0.023202\n",
            "33       Q6    0.022458\n",
            "17      Q28    0.022396\n",
            "7       Q17    0.020531\n",
            "8       Q18    0.019858\n",
            "15      Q25    0.018470\n",
            "23      Q35    0.018131\n",
            "5       Q15    0.016697\n",
            "34       Q7    0.016343\n",
            "35       Q8    0.012742\n",
            "12      Q21    0.012669\n",
            "4       Q14    0.011343\n",
            "22      Q34    0.010799\n",
            "29      Q40    0.010461\n",
            "20      Q31    0.009671\n",
            "24      Q36    0.008361\n",
            "25      Q37    0.006654\n",
            "9       Q19    0.006260\n",
            "0       Q10    0.005657\n",
            "18       Q3    0.005639\n",
            "21      Q33    0.005336\n",
            "26      Q38    0.004158\n",
            "27      Q39    0.003998\n",
            "11      Q20    0.003291\n",
            "31      Q42    0.003001\n",
            "30      Q41    0.002500\n"
          ]
        }
      ]
    },
    {
      "cell_type": "code",
      "source": [
        "print(len(grouped_importance)) # 44allq - 4dropna - 4drop = 36"
      ],
      "metadata": {
        "id": "QUtJB78AE0QR",
        "colab": {
          "base_uri": "https://localhost:8080/"
        },
        "outputId": "378daf62-a261-4dc0-be21-c81273ad3efc"
      },
      "id": "QUtJB78AE0QR",
      "execution_count": null,
      "outputs": [
        {
          "output_type": "stream",
          "name": "stdout",
          "text": [
            "36\n"
          ]
        }
      ]
    },
    {
      "cell_type": "markdown",
      "source": [
        "### feature selection by regulation"
      ],
      "metadata": {
        "id": "LQIiDgHRdX6S"
      },
      "id": "LQIiDgHRdX6S"
    },
    {
      "cell_type": "code",
      "source": [
        "#train_df, test_df, y_train, y_test\n",
        "model = LogisticRegression(penalty='l1', solver='liblinear', C=0.1)\n",
        "model.fit(train_df, y_train)\n",
        "selected_features = np.array(train_df.columns)[model.coef_[0] != 0]\n",
        "print(\"Selected Features:\", selected_features)"
      ],
      "metadata": {
        "id": "_PCLkKW0dYXN",
        "colab": {
          "base_uri": "https://localhost:8080/"
        },
        "outputId": "2f6328c3-fb76-4ecf-fdaa-fafbe46f33ce"
      },
      "id": "_PCLkKW0dYXN",
      "execution_count": null,
      "outputs": [
        {
          "output_type": "stream",
          "name": "stdout",
          "text": [
            "Selected Features: ['Q2' 'Q6_1' 'Q6_3' 'Q6_6' 'Q6_7' 'Q6_12' 'Q7_1' 'Q7_3' 'Q10_1' 'Q10_3'\n",
            " 'Q11' 'Q12_1' 'Q12_2' 'Q12_4' 'Q12_6' 'Q12_7' 'Q12_8' 'Q12_9' 'Q12_10'\n",
            " 'Q12_15' 'Q13_1' 'Q13_3' 'Q13_4' 'Q13_6' 'Q13_10' 'Q13_11' 'Q14_2'\n",
            " 'Q14_12' 'Q15_1' 'Q15_2' 'Q15_9' 'Q16' 'Q17_2' 'Q17_3' 'Q17_6' 'Q17_7'\n",
            " 'Q18_2' 'Q18_3' 'Q18_4' 'Q18_6' 'Q18_9' 'Q19_2' 'Q19_3' 'Q21_2' 'Q21_3'\n",
            " 'Q21_8' 'Q21_10' 'Q25' 'Q27' 'Q28_1' 'Q28_3' 'Q28_4' 'Q28_5' 'Q28_6'\n",
            " 'Q28_7' 'Q28_8' 'Q30' 'Q31_1' 'Q31_2' 'Q31_3' 'Q31_4' 'Q31_12' 'Q34_3'\n",
            " 'Q35_1' 'Q35_2' 'Q35_5' 'Q35_8' 'Q35_9' 'Q35_10' 'Q35_13' 'Q37_12'\n",
            " 'Q40_14' 'Q42_1' 'Q44_3' 'Q44_4' 'Q44_5' 'Q44_6' 'Q44_8' 'Q44_9' 'Q44_12'\n",
            " 'Q3_Woman' 'Q4_France' 'Q4_India' 'Q4_Nigeria' 'Q4_Other' 'Q4_Spain'\n",
            " 'Q4_United Kingdom of Great Britain and Northern Ireland'\n",
            " 'Q4_United States of America' 'Q8_I prefer not to answer'\n",
            " 'Q8_Master\\x81E\\x80\\x81Es degree'\n",
            " 'Q23_Data Analyst (Business, Marketing, Financial, Quantitative, etc)'\n",
            " 'Q23_Data Scientist'\n",
            " 'Q23_Manager (Program, Project, Operations, Executive-level, etc)'\n",
            " 'Q23_Other' 'Q23_Statistician' 'Q23_Teacher / professor'\n",
            " 'Q24_Accounting/Finance' 'Q24_Broadcasting/Communications'\n",
            " 'Q24_Computers/Technology' 'Q24_Manufacturing/Fabrication'\n",
            " 'Q24_Medical/Pharmaceutical']\n"
          ]
        }
      ]
    },
    {
      "cell_type": "markdown",
      "source": [
        "### filter df to only selected features"
      ],
      "metadata": {
        "id": "aK_TTqCddPdZ"
      },
      "id": "aK_TTqCddPdZ"
    },
    {
      "cell_type": "code",
      "source": [
        "train_df_selected = train_df[selected_features]\n",
        "test_df_selected = test_df[selected_features]"
      ],
      "metadata": {
        "id": "KrTToFybHE87"
      },
      "id": "KrTToFybHE87",
      "execution_count": null,
      "outputs": []
    },
    {
      "cell_type": "markdown",
      "id": "ZiT8l3PX9m5F",
      "metadata": {
        "id": "ZiT8l3PX9m5F"
      },
      "source": [
        "#  Model Implementation"
      ]
    },
    {
      "cell_type": "markdown",
      "id": "7oBXbSYFL3Cs",
      "metadata": {
        "id": "7oBXbSYFL3Cs"
      },
      "source": [
        "## Implement Ordinal Logistic Regression Model"
      ]
    },
    {
      "cell_type": "code",
      "execution_count": null,
      "id": "yay4BS-j-Kzg",
      "metadata": {
        "id": "yay4BS-j-Kzg"
      },
      "outputs": [],
      "source": [
        "from sklearn.linear_model import LogisticRegression\n",
        "\n",
        "class OrdinalLogisticRegression():\n",
        "    # TODO: Add ordinal logreg hyperparameters as args to __init__\n",
        "    # A dummy hyperparameter is put as a placeholder for now\n",
        "    # def __init__(self, max_iter=100, hyperparameter='dummy'):\n",
        "    #     self.hyperparameter = hyperparameter #TODO\n",
        "    #     self.max_iter = max_iter\n",
        "\n",
        "    #     self.classes_ = []\n",
        "    #     self.models_ = []\n",
        "\n",
        "    def __init__(self, max_iter=100, C=1.0, solver='lbfgs', tol=1e-4):\n",
        "        self.max_iter = max_iter\n",
        "        self.classes_ = []\n",
        "        self.models_ = []\n",
        "        self.C = C\n",
        "        self.solver = solver\n",
        "        self.tol = tol\n",
        "\n",
        "    def fit(self, X, y):\n",
        "        self.classes_ = sorted(np.unique(y))\n",
        "        self.models_ = []\n",
        "\n",
        "        # Train k-1 binary logistic regression models\n",
        "        for i, c in enumerate(self.classes_[:-1]): # We need only k-1 classifiers\n",
        "            y_i = (y > c).astype(int)  # TODO: label is 0 if the salary bucket is 0 to c, otherwise label is 1\n",
        "            model = LogisticRegression(max_iter=self.max_iter)  # TODO: what machine learning model should be here?\n",
        "            model.fit(X, y_i)\n",
        "            self.models_.append(model)\n",
        "\n",
        "        return self\n",
        "\n",
        "    def predict_proba(self, X):\n",
        "        assert len(self.models_) > 0, \"Model is not fitted yet. Run .fit() first.\"\n",
        "\n",
        "        # Predicted probabilities for k-1 binary logistic regression models (initialize placeholders)\n",
        "        binary_probabilities = np.empty((X.shape[0], len(self.models_), 2), dtype=float)\n",
        "\n",
        "        # Make predictions of k-1 binary logistic regression models\n",
        "        for i, model in enumerate(self.models_):\n",
        "            binary_probabilities[:, i] = model.predict_proba(X) #TODO: predicted **probabilities** by the ith binary logistic regression model\n",
        "\n",
        "        # Compute the probabilities to be in each class\n",
        "        k = len(self.classes_)\n",
        "        proba = np.empty((X.shape[0], k), dtype=float) # predicted probabilities for all the data in X (shape=(X.shape[0], k))\n",
        "\n",
        "        proba[:, 0] = binary_probabilities[:, 0, 0] # 0th probability\n",
        "\n",
        "        for i in range(1, k-1):\n",
        "            # ith probability\n",
        "            # (prob of belonging to class 0 for the ith model - prob of belonging to class 0 for the (i-1)th model\n",
        "            proba[:, i] = binary_probabilities[:, i, 0] - binary_probabilities[:, i-1, 0]\n",
        "\n",
        "        proba[:, -1] = binary_probabilities[:, k-2, 1] # (k-1)th probability\n",
        "\n",
        "        assert (proba.sum(axis=1) == 1).all(), \\\n",
        "            'There is a problem in the probability computation'\n",
        "        return proba\n",
        "\n",
        "    def predict(self, X):\n",
        "        proba = self.predict_proba(X)\n",
        "        return np.argmax(proba, axis = 1)\n",
        "\n",
        "    # Add hyperparameters here whenever you add new ones\n",
        "    # max_iter is added as an example here. key is the hyperparameter name,\n",
        "    # and value is the attribute name you defined in this class\n",
        "    def get_params(self, deep=True):\n",
        "        return {'max_iter': self.max_iter}\n",
        "\n",
        "    # DO NOT CHANGE\n",
        "    def set_params(self, **parameters):\n",
        "        # Set estimator parameters\n",
        "        for parameter, value in parameters.items():\n",
        "            setattr(self, parameter, value)\n",
        "        return self"
      ]
    },
    {
      "cell_type": "markdown",
      "id": "rfTNn0Z6LuZK",
      "metadata": {
        "id": "rfTNn0Z6LuZK"
      },
      "source": [
        "## Run k-fold cross validation\n",
        "\n",
        "- Report the average/variance of accuracies across folds"
      ]
    },
    {
      "cell_type": "markdown",
      "source": [
        "### scale"
      ],
      "metadata": {
        "id": "RrqC16C7ZF48"
      },
      "id": "RrqC16C7ZF48"
    },
    {
      "cell_type": "code",
      "source": [
        "from sklearn.preprocessing import StandardScaler\n",
        "feature_names = train_df.columns\n",
        "\n",
        "scaler = StandardScaler()\n",
        "train_df = scaler.fit_transform(train_df)\n",
        "test_df = scaler.transform(test_df)\n",
        "# convert y to numpy\n",
        "y_train = y_train.to_numpy()\n",
        "y_test = y_test.to_numpy()"
      ],
      "metadata": {
        "id": "EX3CA1zGs5Rs"
      },
      "id": "EX3CA1zGs5Rs",
      "execution_count": null,
      "outputs": []
    },
    {
      "cell_type": "code",
      "source": [
        "from sklearn.model_selection import KFold\n",
        "from sklearn.linear_model import LogisticRegression\n",
        "from sklearn.metrics import confusion_matrix\n",
        "from sklearn.metrics import accuracy_score"
      ],
      "metadata": {
        "id": "MHZyWKcgMOrW"
      },
      "id": "MHZyWKcgMOrW",
      "execution_count": null,
      "outputs": []
    },
    {
      "cell_type": "markdown",
      "source": [
        "### mse"
      ],
      "metadata": {
        "id": "t6WKSPQZ-MAX"
      },
      "id": "t6WKSPQZ-MAX"
    },
    {
      "cell_type": "code",
      "execution_count": null,
      "id": "EMlrveWFH7kx",
      "metadata": {
        "id": "EMlrveWFH7kx",
        "colab": {
          "base_uri": "https://localhost:8080/"
        },
        "outputId": "0d1fbe17-2ae9-4e6a-d239-3bde137a79f1"
      },
      "outputs": [
        {
          "output_type": "stream",
          "name": "stdout",
          "text": [
            "Fold 1: MSE: 13.367\n",
            "Fold 2: MSE: 13.243\n",
            "Fold 3: MSE: 10.731\n",
            "Fold 4: MSE: 14.034\n",
            "Fold 5: MSE: 14.081\n",
            "Fold 6: MSE: 11.931\n",
            "Fold 7: MSE: 14.455\n",
            "Fold 8: MSE: 12.295\n",
            "Fold 9: MSE: 12.306\n",
            "Fold 10: MSE: 11.269\n",
            "Average MSE    : 12.77120973650006\n",
            "Variance of MSE: 1.4289197025238862\n"
          ]
        }
      ],
      "source": [
        "model = OrdinalLogisticRegression()\n",
        "kfold = KFold(n_splits=10)\n",
        "mse_scores = []\n",
        "# train_df, test_df, y_train, y_test = train_test_split()\n",
        "# Perform 10-fold cross-validation on the training set\n",
        "for train_idx, val_idx in kfold.split(train_df):\n",
        "    X_train, X_val = train_df[train_idx], train_df[val_idx]\n",
        "    y_train_fold, y_val = y_train[train_idx], y_train[val_idx]\n",
        "\n",
        "    # Train model\n",
        "    model.fit(X_train, y_train_fold)\n",
        "\n",
        "    # Predict\n",
        "    predictions = model.predict(X_val)\n",
        "\n",
        "    mse = mean_squared_error(y_val, predictions)\n",
        "    mse_scores.append(mse)\n",
        "\n",
        "    print(f\"Fold {len(mse_scores)}: MSE: {round(mse, 3)}\")\n",
        "\n",
        "# Compute average and variance\n",
        "\n",
        "print(\"Average MSE    :\", np.mean(mse_scores))\n",
        "print(\"Variance of MSE:\", np.var(mse_scores))"
      ]
    },
    {
      "cell_type": "markdown",
      "id": "sxu0cqPWMEIZ",
      "metadata": {
        "id": "sxu0cqPWMEIZ"
      },
      "source": [
        "## Bias-variance trade-off\n",
        "\n",
        "[bias_variance_decomp.py](https://github.com/rasbt/mlxtend/blob/master/mlxtend/evaluate/bias_variance_decomp.py)\n",
        "\n",
        "Below is a function you can use to compute the bias and variance of your ordinal logistic regression model. Using this function, analyze the ordinal logistic regression model performance based on bias-variance trade-off."
      ]
    },
    {
      "cell_type": "markdown",
      "source": [
        "### tradeoff def"
      ],
      "metadata": {
        "id": "PW4XHjO_P5B5"
      },
      "id": "PW4XHjO_P5B5"
    },
    {
      "cell_type": "code",
      "execution_count": null,
      "id": "kTas4z9mLpjI",
      "metadata": {
        "id": "kTas4z9mLpjI"
      },
      "outputs": [],
      "source": [
        "### NOTE: You don't need to change anything in this code block! ###\n",
        "\n",
        "def _draw_bootstrap_sample(rng, X, y):\n",
        "    sample_indices = np.arange(X.shape[0])\n",
        "    bootstrap_indices = rng.choice(\n",
        "        sample_indices, size=sample_indices.shape[0], replace=True\n",
        "    )\n",
        "    return X[bootstrap_indices], y[bootstrap_indices]\n",
        "\n",
        "def bias_variance_decomp(\n",
        "    estimator,\n",
        "    X_train,\n",
        "    y_train,\n",
        "    X_test,\n",
        "    y_test,\n",
        "    num_rounds=10,\n",
        "    random_seed=0\n",
        "):\n",
        "    \"\"\"\n",
        "    estimator : object\n",
        "        A classifier or regressor object or class implementing both a\n",
        "        `fit` and `predict` method similar to the scikit-learn API.\n",
        "\n",
        "    X_train : array-like, shape=(num_examples, num_features)\n",
        "        A training dataset for drawing the bootstrap samples to carry\n",
        "        out the bias-variance decomposition.\n",
        "\n",
        "    y_train : array-like, shape=(num_examples)\n",
        "        Targets (class labels, continuous values in case of regression)\n",
        "        associated with the `X_train` examples.\n",
        "\n",
        "    X_test : array-like, shape=(num_examples, num_features)\n",
        "        The test dataset for computing the average loss, bias,\n",
        "        and variance.\n",
        "\n",
        "    y_test : array-like, shape=(num_examples)\n",
        "        Targets (class labels, continuous values in case of regression)\n",
        "        associated with the `X_test` examples.\n",
        "\n",
        "    num_rounds : int (default=10)\n",
        "        Number of bootstrap rounds (sampling from the training set)\n",
        "        for performing the bias-variance decomposition. Each bootstrap\n",
        "        sample has the same size as the original training set.\n",
        "\n",
        "    random_seed : int (default=0)\n",
        "        Random seed for the bootstrap sampling used for the\n",
        "        bias-variance decomposition.\n",
        "\n",
        "    Returns\n",
        "    ----------\n",
        "    avg_bias, avg_var : returns the average bias, and average bias (all floats),\n",
        "                        where the average is computed over the data points\n",
        "                        in the test set.\n",
        "\n",
        "    \"\"\"\n",
        "    loss = \"mse\"\n",
        "\n",
        "    for ary in (X_train, y_train, X_test, y_test):\n",
        "        assert type(ary) == np.ndarray, \\\n",
        "            \"X_train, y_train, X_test, y_test have to be NumPy array. \\\n",
        "            If e.g., X_train is a pandas DataFrame, convert it to NumPy array \\\n",
        "            via X_train=X_train.values.\"\n",
        "\n",
        "    rng = np.random.RandomState(random_seed)\n",
        "\n",
        "    # All the predictions across different rounds\n",
        "    all_pred = np.zeros((num_rounds, y_test.shape[0]), dtype=np.float64)\n",
        "\n",
        "    for i in range(num_rounds):\n",
        "        # Randomly sample training data\n",
        "        X_boot, y_boot = _draw_bootstrap_sample(rng, X_train, y_train)\n",
        "\n",
        "        # Fit the model using the randomly sampled data\n",
        "        pred = estimator.fit(X_boot, y_boot).predict(X_test)\n",
        "        all_pred[i] = pred\n",
        "\n",
        "    # Mean prediction across runs using different dataset for each data point\n",
        "    main_predictions = np.mean(all_pred, axis=0)\n",
        "\n",
        "    # Average bias across different rounds\n",
        "    avg_bias = np.sum((main_predictions - y_test) ** 2) / y_test.size\n",
        "\n",
        "    # Average variance across different rounds\n",
        "    avg_var = np.sum((main_predictions - all_pred) ** 2) / all_pred.size\n",
        "\n",
        "    return avg_bias, avg_var"
      ]
    },
    {
      "cell_type": "markdown",
      "source": [
        "### run tradeoff"
      ],
      "metadata": {
        "id": "7vG4tUGgP8aB"
      },
      "id": "7vG4tUGgP8aB"
    },
    {
      "cell_type": "code",
      "execution_count": null,
      "id": "IvfmmzCuMgyd",
      "metadata": {
        "id": "IvfmmzCuMgyd"
      },
      "outputs": [],
      "source": [
        "# # Usage example\n",
        "# model = OrdinalLogisticRegression()\n",
        "# avg_bias, avg_var = \\\n",
        "#     bias_variance_decomp(model, X_train, y_train, X_test, y_test, num_rounds=10, random_seed=0)"
      ]
    },
    {
      "cell_type": "code",
      "source": [
        "# train_df, test_df, y_train, y_test = train_test_split()\n",
        "\n",
        "# Initialize model\n",
        "model = OrdinalLogisticRegression()\n",
        "\n",
        "# Compute bias and variance using bootstrapping\n",
        "avg_bias, avg_var = bias_variance_decomp(\n",
        "    model, train_df, y_train, test_df, y_test, num_rounds=10, random_seed=0\n",
        ")\n",
        "\n",
        "# Print results\n",
        "print(f\"Average Bias: {avg_bias:.4f}\")\n",
        "print(f\"Average Variance: {avg_var:.4f}\")"
      ],
      "metadata": {
        "id": "NYWIobKKPzAg",
        "colab": {
          "base_uri": "https://localhost:8080/"
        },
        "outputId": "899fa327-76ad-462f-ff3a-a9f75a7db484"
      },
      "id": "NYWIobKKPzAg",
      "execution_count": null,
      "outputs": [
        {
          "output_type": "stream",
          "name": "stdout",
          "text": [
            "Average Bias: 9.4016\n",
            "Average Variance: 3.4801\n"
          ]
        }
      ]
    },
    {
      "cell_type": "code",
      "execution_count": null,
      "id": "1UKn7k1KOnwd",
      "metadata": {
        "id": "1UKn7k1KOnwd"
      },
      "outputs": [],
      "source": [
        "#TODO: Discuss bias-variance trade-off of your ordinal logistic regression model"
      ]
    },
    {
      "cell_type": "markdown",
      "id": "yM6x1l0ylEai",
      "metadata": {
        "id": "yM6x1l0ylEai"
      },
      "source": [
        "# Model Tuning"
      ]
    },
    {
      "cell_type": "markdown",
      "id": "Yd1b-XDKlgYe",
      "metadata": {
        "id": "Yd1b-XDKlgYe"
      },
      "source": [
        "- What are the hyperparameters we can potentially set for our ordinal logistic regression model?\n",
        "- Which hyperparameters seem to be worthwhile to tune?"
      ]
    },
    {
      "cell_type": "markdown",
      "id": "hCqdrfV9nWEP",
      "metadata": {
        "id": "hCqdrfV9nWEP"
      },
      "source": [
        "## Grid Search\n",
        "\n",
        "- Grid search will take time to complete - but if it does not finish in a few hours, you're probably trying too many combinations\n",
        "- A recommended approach is to try a small number of combinations with a wide range first (for continuous value hyperparameters)! Then gradually increase the points that seem to be near optimal"
      ]
    },
    {
      "cell_type": "code",
      "execution_count": null,
      "id": "W2csig4uY7XO",
      "metadata": {
        "id": "W2csig4uY7XO",
        "colab": {
          "base_uri": "https://localhost:8080/"
        },
        "outputId": "144e87eb-41b4-4a1f-9d50-e5d7a57cf9c6"
      },
      "outputs": [
        {
          "output_type": "stream",
          "name": "stdout",
          "text": [
            "Best parameters: {'C': 0.01, 'solver': 'newton-cg'}\n",
            "Best MSE: -12.846522526096553\n"
          ]
        }
      ],
      "source": [
        "from sklearn.model_selection import GridSearchCV\n",
        "# {'C': 0.01, 'solver': 'newton-cg'}\n",
        "\n",
        "#TODO: Perform grid search using a proper criteria and identify the best parameter set\n",
        "\n",
        "param_grid = {\n",
        "    'C': [0.01, 0.1, 1, 10, 100],\n",
        "    'solver': ['newton-cg', 'lbfgs', 'saga']\n",
        "}\n",
        "\n",
        "grid = GridSearchCV(model, param_grid, cv=5, scoring='neg_mean_squared_error')\n",
        "grid.fit(train_df, y_train)\n",
        "\n",
        "print(\"Best parameters:\", grid.best_params_)\n",
        "print(\"Best MSE:\", grid.best_score_)\n"
      ]
    },
    {
      "cell_type": "code",
      "source": [
        "C_values = [0.001, 0.01, 0.1, 1, 10, 100]\n",
        "best_C = None\n",
        "best_bias_variance = float(\"inf\")\n",
        "\n",
        "for C in C_values:\n",
        "\n",
        "    model = OrdinalLogisticRegression(C=C)\n",
        "\n",
        "    avg_bias, avg_var = bias_variance_decomp(\n",
        "    model, train_df, y_train, test_df, y_test, num_rounds=10, random_seed=0)\n",
        "\n",
        "    print(f\"C: {C}, Bias: {avg_bias:.4f}, Variance: {avg_var:.4f}, Total: {avg_bias + avg_var:.4f}\")\n",
        "\n",
        "    if avg_bias + avg_var < best_bias_variance:\n",
        "        best_bias_variance = avg_bias + avg_var\n",
        "        best_C = C\n",
        "\n",
        "print(f\"Best C based on Bias-Variance Tradeoff: {best_C}\")"
      ],
      "metadata": {
        "id": "3ixGHqiwRnnf",
        "colab": {
          "base_uri": "https://localhost:8080/"
        },
        "outputId": "074bdb4e-ec00-4e1a-e60a-5fa1a7fd802e"
      },
      "id": "3ixGHqiwRnnf",
      "execution_count": null,
      "outputs": [
        {
          "output_type": "stream",
          "name": "stdout",
          "text": [
            "C: 0.001, Bias: 9.4016, Variance: 3.4801, Total: 12.8818\n",
            "C: 0.01, Bias: 9.4016, Variance: 3.4801, Total: 12.8818\n",
            "C: 0.1, Bias: 9.4016, Variance: 3.4801, Total: 12.8818\n",
            "C: 1, Bias: 9.4016, Variance: 3.4801, Total: 12.8818\n",
            "C: 10, Bias: 9.4016, Variance: 3.4801, Total: 12.8818\n",
            "C: 100, Bias: 9.4016, Variance: 3.4801, Total: 12.8818\n",
            "Best C based on Bias-Variance Tradeoff: 0.001\n"
          ]
        }
      ]
    },
    {
      "cell_type": "markdown",
      "id": "4E7snhc_oCna",
      "metadata": {
        "id": "4E7snhc_oCna"
      },
      "source": [
        "## Visualize the feature importance of your model"
      ]
    },
    {
      "cell_type": "markdown",
      "source": [
        "### def best model"
      ],
      "metadata": {
        "id": "7wufx518aERq"
      },
      "id": "7wufx518aERq"
    },
    {
      "cell_type": "code",
      "execution_count": null,
      "id": "p0uxuBLVlqh2",
      "metadata": {
        "id": "p0uxuBLVlqh2"
      },
      "outputs": [],
      "source": [
        "best_model = OrdinalLogisticRegression(C=1, solver=\"newton-cg\") #TODO: set the best-performing hyperparameters identified via grid search\n",
        "best_model = model.fit(train_df, y_train)"
      ]
    },
    {
      "cell_type": "markdown",
      "source": [
        "### best model feature visual"
      ],
      "metadata": {
        "id": "tEmH36btaA7F"
      },
      "id": "tEmH36btaA7F"
    },
    {
      "cell_type": "code",
      "execution_count": null,
      "id": "9vHrcM_7maIX",
      "metadata": {
        "id": "9vHrcM_7maIX",
        "colab": {
          "base_uri": "https://localhost:8080/",
          "height": 296
        },
        "outputId": "5a8f71fe-699c-429b-8ea4-a6e2cac0c765"
      },
      "outputs": [
        {
          "output_type": "display_data",
          "data": {
            "text/plain": [
              "<Figure size 1200x600 with 1 Axes>"
            ],
            "image/png": "[encoded data removed]"
          },
          "metadata": {}
        }
      ],
      "source": [
        "#TODO: Visualize feature importance of the ordinal logistic regression model\n",
        "# feature_names = train_df.columns\n",
        "\n",
        "# Extract coefficients from all binary logistic models\n",
        "coefs = np.mean([m.coef_[0] for m in model.models_], axis=0)  # Average across models\n",
        "\n",
        "# Create a DataFrame\n",
        "feature_importance_df = pd.DataFrame({'Feature': feature_names, 'Importance': np.abs(coefs)})\n",
        "feature_importance_df = feature_importance_df.sort_values(by='Importance', ascending=False)\n",
        "\n",
        "# Plot Feature Importance\n",
        "plt.figure(figsize=(12, 6))\n",
        "sns.barplot(x='Importance', y='Feature', data=feature_importance_df[:20], palette=\"viridis\")  # Top 20 features\n",
        "plt.xlabel(\"Absolute Coefficient Value\")\n",
        "plt.ylabel(\"Features\")\n",
        "plt.title(\"Top 20 Feature Importances in Ordinal Logistic Regression\")\n",
        "plt.show()"
      ]
    },
    {
      "cell_type": "markdown",
      "id": "goOzqrk3nJUw",
      "metadata": {
        "id": "goOzqrk3nJUw"
      },
      "source": [
        "# Testing"
      ]
    },
    {
      "cell_type": "code",
      "execution_count": null,
      "id": "u-nCZ_QnnKhF",
      "metadata": {
        "id": "u-nCZ_QnnKhF",
        "colab": {
          "base_uri": "https://localhost:8080/"
        },
        "outputId": "01a971df-0aae-41d3-d1c5-0f835422d9e4"
      },
      "outputs": [
        {
          "output_type": "stream",
          "name": "stdout",
          "text": [
            "Train MSE: 9.3485\n",
            "Test MSE: 11.9386\n"
          ]
        }
      ],
      "source": [
        "#TODO: Using the best-performing model, evaluate the model performance both on the training set and test set\n",
        "from sklearn.metrics import accuracy_score, classification_report\n",
        "\n",
        "y_train_pred = best_model.predict(train_df)\n",
        "y_test_pred = best_model.predict(test_df)\n",
        "\n",
        "# Compute MSE\n",
        "train_mse = mean_squared_error(y_train, y_train_pred)\n",
        "test_mse = mean_squared_error(y_test, y_test_pred)\n",
        "print(f\"Train MSE: {train_mse:.4f}\")\n",
        "print(f\"Test MSE: {test_mse:.4f}\")"
      ]
    },
    {
      "cell_type": "code",
      "execution_count": null,
      "id": "0-BMMRi0oIy5",
      "metadata": {
        "id": "0-BMMRi0oIy5",
        "colab": {
          "base_uri": "https://localhost:8080/",
          "height": 504
        },
        "outputId": "a52e06bb-5b9e-46ff-8214-6774efcb3827"
      },
      "outputs": [
        {
          "output_type": "display_data",
          "data": {
            "text/plain": [
              "<Figure size 1200x800 with 4 Axes>"
            ],
            "image/png": "[encoded data removed]"
          },
          "metadata": {}
        }
      ],
      "source": [
        "#TODO: Plot the distribution of true target variable values and their predictions on both the training set and test set\n",
        "\n",
        "\n",
        "# Create subplots\n",
        "fig, axes = plt.subplots(2, 2, figsize=(12, 8), sharex=True, sharey=True)\n",
        "\n",
        "# Plot true vs predicted distribution for training set\n",
        "sns.histplot(y_train, bins=20, kde=True, ax=axes[0, 0], color=\"blue\", label=\"True\")\n",
        "sns.histplot(y_train_pred, bins=20, kde=True, ax=axes[0, 1], color=\"red\", label=\"Predicted\")\n",
        "\n",
        "# Plot true vs predicted distribution for test set\n",
        "sns.histplot(y_test, bins=20, kde=True, ax=axes[1, 0], color=\"blue\", label=\"True\")\n",
        "sns.histplot(y_test_pred, bins=20, kde=True, ax=axes[1, 1], color=\"red\", label=\"Predicted\")\n",
        "\n",
        "# Set titles\n",
        "axes[0, 0].set_title(\"Train Set - True Distribution\")\n",
        "axes[0, 1].set_title(\"Train Set - Predicted Distribution\")\n",
        "axes[1, 0].set_title(\"Test Set - True Distribution\")\n",
        "axes[1, 1].set_title(\"Test Set - Predicted Distribution\")\n",
        "\n",
        "# Set labels\n",
        "for ax in axes.flat:\n",
        "    ax.set_xlabel(\"Target Variable\")\n",
        "    ax.set_ylabel(\"Frequency\")\n",
        "    ax.legend()\n",
        "\n",
        "plt.tight_layout()\n",
        "plt.show()"
      ]
    }
  ],
  "metadata": {
    "colab": {
      "provenance": [],
      "toc_visible": true
    },
    "kernelspec": {
      "display_name": "Python 3 (ipykernel)",
      "language": "python",
      "name": "python3"
    },
    "language_info": {
      "codemirror_mode": {
        "name": "ipython",
        "version": 3
      },
      "file_extension": ".py",
      "mimetype": "text/x-python",
      "name": "python",
      "nbconvert_exporter": "python",
      "pygments_lexer": "ipython3",
      "version": "3.8.10"
    }
  },
  "nbformat": 4,
  "nbformat_minor": 5
}